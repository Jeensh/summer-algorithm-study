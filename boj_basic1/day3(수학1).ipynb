{
 "cells": [
  {
   "cell_type": "markdown",
   "metadata": {},
   "source": [
    "# 백준 기초 -1 (자료구조)\n",
    "### 미해결 문제\n",
    "- 없음"
   ]
  },
  {
   "cell_type": "code",
   "execution_count": null,
   "metadata": {},
   "outputs": [],
   "source": [
    "# 나머지\n",
    "import sys\n",
    "\n",
    "a,b,c = map(int,sys.stdin.readline().strip().split())\n",
    "\n",
    "print((a+b)%c)\n",
    "print(((a%c) + (b%c))%c)\n",
    "print((a*b)%c)\n",
    "print(((a%c) * (b%c))%c)"
   ]
  },
  {
   "cell_type": "code",
   "execution_count": null,
   "metadata": {},
   "outputs": [],
   "source": [
    "# 최대공약수와 최소공배수\n",
    "# sol1 - 시간초과\n",
    "import sys\n",
    "\n",
    "a,b = map(int,sys.stdin.readline().strip().split())\n",
    "LCM = a*b\n",
    "GCD = 1\n",
    "\n",
    "for i in range(LCM,max(a,b),-1):\n",
    "    if i % a == 0 and i % b == 0:\n",
    "        LCM = i\n",
    "\n",
    "for i in range(1,min(a,b)):\n",
    "    if a % i == 0 and b % i == 0:\n",
    "        GCD = i\n",
    "        \n",
    "print(GCD)\n",
    "print(LCM)"
   ]
  },
  {
   "cell_type": "code",
   "execution_count": null,
   "metadata": {},
   "outputs": [],
   "source": [
    "# sol2 - 시간 초과\n",
    "import sys\n",
    "\n",
    "s = list(map(int,sys.stdin.readline().strip().split()))\n",
    "if s[0] > s[1]:\n",
    "    a = s[0]\n",
    "    LCM = s[0]\n",
    "    b = s[1]\n",
    "else:\n",
    "    a = s[1]\n",
    "    LCM = s[1]\n",
    "    b = s[0]\n",
    "\n",
    "r = -1\n",
    "while r != 0:\n",
    "    r = a%b\n",
    "    a = b\n",
    "    b = r\n",
    "GCD = a\n",
    "\n",
    "while LCM % s[0] != 0 or LCM % s[1] != 0:\n",
    "    LCM += GCD\n",
    "        \n",
    "print(GCD)\n",
    "print(LCM)"
   ]
  },
  {
   "cell_type": "code",
   "execution_count": null,
   "metadata": {},
   "outputs": [],
   "source": [
    "# sol3\n",
    "import sys\n",
    "\n",
    "s = list(map(int,sys.stdin.readline().strip().split()))\n",
    "if s[0] > s[1]:\n",
    "    a = s[0]\n",
    "    LCM = s[0]\n",
    "    b = s[1]\n",
    "else:\n",
    "    a = s[1]\n",
    "    LCM = s[1]\n",
    "    b = s[0]\n",
    "\n",
    "r = -1\n",
    "while r != 0:\n",
    "    r = a%b\n",
    "    a = b\n",
    "    b = r\n",
    "GCD = a\n",
    "\n",
    "LCM = int(s[0] * s[1] / GCD)\n",
    "        \n",
    "print(GCD)\n",
    "print(LCM)"
   ]
  },
  {
   "cell_type": "code",
   "execution_count": null,
   "metadata": {},
   "outputs": [],
   "source": [
    "# 최소공배수\n",
    "import sys\n",
    "\n",
    "n = int(sys.stdin.readline().strip())\n",
    "\n",
    "for i in range(n):\n",
    "    s = list(map(int,sys.stdin.readline().strip().split()))\n",
    "    if s[0] > s[1]:\n",
    "        a = s[0]\n",
    "        LCM = s[0]\n",
    "        b = s[1]\n",
    "    else:\n",
    "        a = s[1]\n",
    "        LCM = s[1]\n",
    "        b = s[0]\n",
    "\n",
    "    r = -1\n",
    "    while r != 0:\n",
    "        r = a%b\n",
    "        a = b\n",
    "        b = r\n",
    "    GCD = a\n",
    "    LCM = int(s[0] * s[1] / GCD)\n",
    "\n",
    "    print(LCM)"
   ]
  },
  {
   "cell_type": "code",
   "execution_count": null,
   "metadata": {},
   "outputs": [],
   "source": [
    "# 소수 찾기\n",
    "import sys\n",
    "\n",
    "n = int(sys.stdin.readline().strip())\n",
    "s = list(map(int,sys.stdin.readline().strip().split()))\n",
    "result = 0\n",
    "\n",
    "for i in s:\n",
    "    if i == 1:\n",
    "        continue\n",
    "    result += 1\n",
    "    for j in range(2,i):\n",
    "        if i % j == 0:\n",
    "            result -= 1\n",
    "            break\n",
    "print(result)"
   ]
  },
  {
   "cell_type": "code",
   "execution_count": null,
   "metadata": {},
   "outputs": [],
   "source": [
    "# 소수 구하기\n",
    "# sol1 - 시간초과\n",
    "import sys\n",
    "\n",
    "a,b = map(int,sys.stdin.readline().strip().split())\n",
    "if a == 1:\n",
    "    a += 1\n",
    "for i in range(a,b+1):\n",
    "    for j in range(2,i):\n",
    "        if i % j == 0:\n",
    "            break\n",
    "    if j == i-1:\n",
    "        print(i)"
   ]
  },
  {
   "cell_type": "code",
   "execution_count": null,
   "metadata": {},
   "outputs": [],
   "source": [
    "# sol2\n",
    "import sys\n",
    "\n",
    "a,b = map(int,sys.stdin.readline().strip().split())\n",
    "m = [1 for i in range(b)]\n",
    "m[0] = 0\n",
    "for i in range(2,b+1):\n",
    "    if not m[i-1]:\n",
    "        continue\n",
    "    else:\n",
    "        for j in range(i+i,b+1,i):\n",
    "            m[j-1] = 0\n",
    "\n",
    "for i in range(a-1,b):\n",
    "    if m[i]:\n",
    "        print(i+1)"
   ]
  },
  {
   "cell_type": "code",
   "execution_count": null,
   "metadata": {},
   "outputs": [],
   "source": [
    "# 골드바흐의 추측"
   ]
  },
  {
   "cell_type": "code",
   "execution_count": null,
   "metadata": {},
   "outputs": [],
   "source": [
    "# 팩토리얼"
   ]
  },
  {
   "cell_type": "code",
   "execution_count": null,
   "metadata": {},
   "outputs": [],
   "source": [
    "# 팩토리얼 0의 개수"
   ]
  },
  {
   "cell_type": "code",
   "execution_count": null,
   "metadata": {},
   "outputs": [],
   "source": [
    "# 조합 0의 개수"
   ]
  }
 ],
 "metadata": {
  "kernelspec": {
   "display_name": "Python 3",
   "language": "python",
   "name": "python3"
  },
  "language_info": {
   "codemirror_mode": {
    "name": "ipython",
    "version": 3
   },
   "file_extension": ".py",
   "mimetype": "text/x-python",
   "name": "python",
   "nbconvert_exporter": "python",
   "pygments_lexer": "ipython3",
   "version": "3.7.6"
  }
 },
 "nbformat": 4,
 "nbformat_minor": 4
}
