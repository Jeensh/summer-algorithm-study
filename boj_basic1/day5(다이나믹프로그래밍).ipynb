{
 "cells": [
  {
   "cell_type": "markdown",
   "id": "9859e0e3",
   "metadata": {},
   "source": [
    "# 백준 기초 -1 (다이나믹 프로그래밍)\n",
    "### 미해결 문제\n",
    "- 1로 만들기 : 다른 사람 코드 참조"
   ]
  },
  {
   "cell_type": "code",
   "execution_count": null,
   "id": "3e4cc213",
   "metadata": {},
   "outputs": [],
   "source": [
    "# 1로 만들기 - 풀이 실패, 다른 사람 코드 참조\n",
    "# sol1 top-down방식\n"
   ]
  },
  {
   "cell_type": "code",
   "execution_count": null,
   "id": "d350d3b2",
   "metadata": {},
   "outputs": [],
   "source": [
    "# 2xn 타일링"
   ]
  },
  {
   "cell_type": "code",
   "execution_count": null,
   "id": "fe5c3421",
   "metadata": {},
   "outputs": [],
   "source": [
    "# 2xn 타일링2"
   ]
  },
  {
   "cell_type": "code",
   "execution_count": null,
   "id": "523061b5",
   "metadata": {},
   "outputs": [],
   "source": [
    "# 1,2,3 더하기"
   ]
  },
  {
   "cell_type": "code",
   "execution_count": null,
   "id": "fc099b78",
   "metadata": {},
   "outputs": [],
   "source": [
    "# 카드 구매하기"
   ]
  },
  {
   "cell_type": "code",
   "execution_count": null,
   "id": "69eb2493",
   "metadata": {},
   "outputs": [],
   "source": [
    "# 카드 구매하기2"
   ]
  },
  {
   "cell_type": "code",
   "execution_count": null,
   "id": "6c057f03",
   "metadata": {},
   "outputs": [],
   "source": [
    "# 1,2,3 더하기5"
   ]
  },
  {
   "cell_type": "code",
   "execution_count": null,
   "id": "c8ecf7f6",
   "metadata": {},
   "outputs": [],
   "source": [
    "# 쉬운 계단 수"
   ]
  },
  {
   "cell_type": "code",
   "execution_count": null,
   "id": "d9bc1e75",
   "metadata": {},
   "outputs": [],
   "source": [
    "# 이친수"
   ]
  },
  {
   "cell_type": "code",
   "execution_count": null,
   "id": "d233897b",
   "metadata": {},
   "outputs": [],
   "source": [
    "# 가장 긴 증가하는 부분 수열"
   ]
  },
  {
   "cell_type": "code",
   "execution_count": null,
   "id": "c20b7e4a",
   "metadata": {},
   "outputs": [],
   "source": [
    "# 가장 긴 증가하는 부분 수열4"
   ]
  },
  {
   "cell_type": "code",
   "execution_count": null,
   "id": "ba525728",
   "metadata": {},
   "outputs": [],
   "source": [
    "# 연속합"
   ]
  },
  {
   "cell_type": "code",
   "execution_count": null,
   "id": "54fbd7ac",
   "metadata": {},
   "outputs": [],
   "source": [
    "# 제곱수의 합"
   ]
  },
  {
   "cell_type": "code",
   "execution_count": null,
   "id": "4d6d1cd0",
   "metadata": {},
   "outputs": [],
   "source": [
    "# 합 분해"
   ]
  }
 ],
 "metadata": {
  "kernelspec": {
   "display_name": "Python 3 (ipykernel)",
   "language": "python",
   "name": "python3"
  },
  "language_info": {
   "codemirror_mode": {
    "name": "ipython",
    "version": 3
   },
   "file_extension": ".py",
   "mimetype": "text/x-python",
   "name": "python",
   "nbconvert_exporter": "python",
   "pygments_lexer": "ipython3",
   "version": "3.9.6"
  }
 },
 "nbformat": 4,
 "nbformat_minor": 5
}
