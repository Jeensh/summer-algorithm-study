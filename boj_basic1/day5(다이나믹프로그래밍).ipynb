{
 "cells": [
  {
   "cell_type": "markdown",
   "metadata": {},
   "source": [
    "# 백준 기초 -1 (다이나믹 프로그래밍)\n",
    "### 미해결 문제\n",
    "- 1로 만들기 : 다른 사람 코드 참조"
   ]
  },
  {
   "cell_type": "code",
   "execution_count": null,
   "metadata": {},
   "outputs": [],
   "source": [
    "# 1로 만들기 - 풀이 실패, 다른 사람 코드 참조\n",
    "# sol1 bottom-up방식\n",
    "import sys\n",
    "n = int(sys.stdin.readline())\n",
    "d = [0]*(n+1)\n",
    "d[1] = 0\n",
    "for i in range(2, n+1):\n",
    "    d[i] = d[i-1] + 1\n",
    "    if i%2 == 0 and d[i] > d[i//2] + 1:\n",
    "        d[i] = d[i//2] + 1\n",
    "    if i%3 == 0 and d[i] > d[i//3] + 1:\n",
    "        d[i] = d[i//3] + 1\n",
    "print(d[n])"
   ]
  },
  {
   "cell_type": "code",
   "execution_count": null,
   "metadata": {},
   "outputs": [],
   "source": [
    "# 2xn 타일링 - 풀이 실패, 다른 사람 코드 참조\n",
    "# sol1 bottom-up방식 - 점화식을 먼저 구하기\n",
    "# 런타임 에러 발생\n",
    "# 원인 : n = 1인 경우 m[2] = 2로 설정하여 에러가 발생한다\n",
    "# 이와 같은 문제를 해결할 때, IndexError:list assignment index out of range의 에러를 조심해야 한다\n",
    "import sys\n",
    "\n",
    "n = int(sys.stdin.readline())\n",
    "\n",
    "m = [0 for i in range(n+1)]\n",
    "m[1] = 1\n",
    "m[2] = 2\n",
    "for i in range(2,n+1):\n",
    "    m[i] = m[i-1] + m[i-2]\n",
    "print(m[-1]%10007)"
   ]
  },
  {
   "cell_type": "code",
   "execution_count": null,
   "metadata": {},
   "outputs": [],
   "source": [
    "# sol2 \n",
    "import sys\n",
    "\n",
    "n = int(sys.stdin.readline())\n",
    "\n",
    "if n <= 2:\n",
    "    if n ==1 :\n",
    "        print(1)\n",
    "    else:\n",
    "        print(2)\n",
    "else:\n",
    "    m = [0 for i in range(n+1)]\n",
    "    m[1] = 1\n",
    "    m[2] = 2\n",
    "    for i in range(3,n+1):\n",
    "        m[i] = m[i-1] + m[i-2]\n",
    "    print(m[-1]%10007)\n"
   ]
  },
  {
   "cell_type": "code",
   "execution_count": null,
   "metadata": {},
   "outputs": [],
   "source": [
    "# 2xn 타일링2\n",
    "import sys\n",
    "\n",
    "n = int(sys.stdin.readline())\n",
    "\n",
    "if n <= 2:\n",
    "    if n ==1 :\n",
    "        print(1)\n",
    "    else:\n",
    "        print(3)\n",
    "else:\n",
    "    m = [0 for i in range(n+1)]\n",
    "    m[1] = 1\n",
    "    m[2] = 3\n",
    "    for i in range(3,n+1):\n",
    "        m[i] = m[i-1] + m[i-2]*2\n",
    "    print(m[-1]%10007)"
   ]
  },
  {
   "cell_type": "code",
   "execution_count": null,
   "metadata": {},
   "outputs": [],
   "source": [
    "# 1,2,3 더하기\n",
    "import sys\n",
    "\n",
    "t = int(sys.stdin.readline())\n",
    "for j in range(t):\n",
    "    n = int(sys.stdin.readline())\n",
    "\n",
    "    if n <= 3:\n",
    "        if n ==1 :\n",
    "            print(1)\n",
    "        elif n == 2:\n",
    "            print(2)\n",
    "        else:\n",
    "            print(4)\n",
    "    else:\n",
    "        m = [0 for i in range(n+1)]\n",
    "        m[1] = 1\n",
    "        m[2] = 2\n",
    "        m[3] = 4\n",
    "        for i in range(4,n+1):\n",
    "            m[i] = m[i-1] + m[i-2] + m[i-3]\n",
    "        print(m[-1])\n",
    "\n"
   ]
  },
  {
   "cell_type": "code",
   "execution_count": null,
   "metadata": {},
   "outputs": [],
   "source": [
    "# 카드 구매하기\n",
    "import sys\n",
    "\n",
    "n = int(sys.stdin.readline())\n",
    "m = list(map(int,sys.stdin.readline().strip().split()))\n",
    "m.insert(0,0)\n",
    "for i in range(2,n+1):\n",
    "    for j in range(1,i):\n",
    "        m[i] = max(m[i],m[i-j]+m[j])\n",
    "print(m[-1])"
   ]
  },
  {
   "cell_type": "code",
   "execution_count": null,
   "metadata": {},
   "outputs": [],
   "source": [
    "# 카드 구매하기2\n",
    "import sys\n",
    "\n",
    "n = int(sys.stdin.readline())\n",
    "m = list(map(int,sys.stdin.readline().strip().split()))\n",
    "m.insert(0,0)\n",
    "for i in range(2,n+1):\n",
    "    for j in range(1,i):\n",
    "        m[i] = min(m[i],m[i-j]+m[j])\n",
    "print(m[-1])"
   ]
  },
  {
   "cell_type": "code",
   "execution_count": null,
   "metadata": {},
   "outputs": [],
   "source": [
    "# 1,2,3 더하기5\n",
    "# sol1 - 시간초과\n",
    "import sys\n",
    "\n",
    "n = int(sys.stdin.readline().strip())\n",
    "m = [[0 for i in range(3)] for j in range(100000)]\n",
    "m[0] = [1,0,0]\n",
    "m[1] = [0,1,0]\n",
    "m[2] = [1,1,1]\n",
    "big = 3\n",
    "for i in range(n):\n",
    "    k = int(sys.stdin.readline().strip())\n",
    "    if sum(m[k-1]) != 0:\n",
    "        print(sum(m[k-1])%1000000009)\n",
    "    else:\n",
    "        for j in range(big,k):\n",
    "            if sum(m[j]) == 0:\n",
    "                m[j][0] = m[j-1][1] + m[j-1][2]\n",
    "                m[j][1] = m[j-2][0] + m[j-2][2]\n",
    "                m[j][2] = m[j-3][0] + m[j-3][1]\n",
    "            else:\n",
    "                continue\n",
    "        print(sum(m[k-1])%1000000009)\n",
    "    big = max(big,k-1)"
   ]
  },
  {
   "cell_type": "code",
   "execution_count": null,
   "metadata": {},
   "outputs": [],
   "source": [
    "# sol2 - 다른 사람 코드 참고\n",
    "t = int(input())\n",
    "dp = [[0]*4 for _ in range(100001)]\n",
    "\n",
    "# dp[i][j] : i를 만드는 데 더해지는 끝 수가 j인 경우의 수\n",
    "dp[1][1] = 1\n",
    "dp[2][2] = 1\n",
    "dp[3][1], dp[3][2], dp[3][3] = 1, 1, 1\n",
    "\n",
    "for i in range(4, 100001):\n",
    "    for j in range(1, 4):\n",
    "        dp[i][j] = ((dp[i-j][1]+dp[i-j][2])%1000000009 + dp[i-j][3])%1000000009 - dp[i-j][j]\n",
    "\n",
    "for _ in range(t):\n",
    "    n = int(input())\n",
    "    print(((dp[n][1]+dp[n][2])%1000000009+dp[n][3])%1000000009)"
   ]
  },
  {
   "cell_type": "code",
   "execution_count": null,
   "metadata": {},
   "outputs": [],
   "source": [
    "# 쉬운 계단 수 - 2차원으로 풀어야함\n",
    "import sys\n",
    "\n",
    "n = int(sys.stdin.readline())\n",
    "m = [[0 for i in range(10)] for i in range(n+1)]\n",
    "m[1] = [0,1,1,1,1,1,1,1,1,1]\n",
    "for i in range(2,n+1):\n",
    "    for j in range(10):\n",
    "        if j == 0:\n",
    "            m[i][j] = m[i-1][1]\n",
    "        elif j == 9:\n",
    "            m[i][j] = m[i-1][8]\n",
    "        else:\n",
    "            m[i][j] = m[i-1][j-1] + m[i-1][j+1]\n",
    "result = sum(m[n]) % 1000000000\n",
    "print(result)"
   ]
  },
  {
   "cell_type": "code",
   "execution_count": null,
   "metadata": {},
   "outputs": [],
   "source": [
    "# 이친수\n",
    "import sys\n",
    "\n",
    "n = int(sys.stdin.readline().strip())\n",
    "m = [[0 for i in range(2)] for j in range(n+1)]\n",
    "m[0] = [0,1]\n",
    "m[1] = [1,0]\n",
    "if n <= 2:\n",
    "    print(sum(m[n-1]))\n",
    "else:\n",
    "    for i in range(2,n):\n",
    "        m[i][0] = m[i-1][0] + m[i-2][0]\n",
    "        m[i][1] = m[i-1][1] + m[i-2][1]\n",
    "    print(sum(m[n-1]))"
   ]
  },
  {
   "cell_type": "code",
   "execution_count": null,
   "metadata": {},
   "outputs": [],
   "source": [
    "# 가장 긴 증가하는 부분 수열 - 풀이 실패 다른사람 코드 참고\n",
    "import sys\n",
    "\n",
    "n = int(sys.stdin.readline().strip())\n",
    "l = list(map(int,sys.stdin.readline().strip().split()))\n",
    "x = [1 for i in range(len(l))]\n",
    "for i in range(len(l)):\n",
    "    for j in range(i):\n",
    "        if l[i] > l[j]:\n",
    "            x[i] = max(x[i],x[j]+1)\n",
    "print(max(x))"
   ]
  },
  {
   "cell_type": "code",
   "execution_count": null,
   "metadata": {},
   "outputs": [],
   "source": [
    "# 가장 긴 증가하는 부분 수열4\n",
    "import sys\n",
    "\n",
    "n = int(sys.stdin.readline().strip())\n",
    "l = list(map(int,sys.stdin.readline().strip().split()))\n",
    "x = [[1,l[i]] for i in range(len(l))]\n",
    "for i in range(len(l)):\n",
    "    for j in range(i):\n",
    "        if l[i] > l[j]:\n",
    "            if len(x[i]) < len(x[j])+1:\n",
    "                x[i] = x[j] + [l[i]]\n",
    "                x[i][0] = len(x[i])-1\n",
    "print(max(x)[0])\n",
    "print(*max(x)[1:])"
   ]
  },
  {
   "cell_type": "code",
   "execution_count": null,
   "metadata": {},
   "outputs": [],
   "source": [
    "# 연속합\n",
    "import sys\n",
    "\n",
    "n = int(sys.stdin.readline().strip())\n",
    "l = list(map(int,sys.stdin.readline().strip().split()))\n",
    "big = l[0]\n",
    "temp = l[0]\n",
    "for i in range(1,n):\n",
    "    if temp < 0:\n",
    "        temp = l[i]\n",
    "    else:\n",
    "        temp += l[i]\n",
    "    if temp > big:\n",
    "        big = temp\n",
    "print(big)"
   ]
  },
  {
   "cell_type": "code",
   "execution_count": null,
   "metadata": {},
   "outputs": [],
   "source": [
    "# 제곱수의 합\n",
    "import sys\n",
    "\n",
    "n = int(sys.stdin.readline().strip())\n",
    " \n",
    "dp = [i for i in range(n+1)]\n",
    " \n",
    "for i in range(1,n+1):\n",
    "    for j in range(1,i):\n",
    "        if j*j>i:\n",
    "            break\n",
    "        if dp[i]>dp[i-j*j]+1:\n",
    "            dp[i] = dp[i-j*j]+1\n",
    "            \n",
    "print(dp[n])"
   ]
  },
  {
   "cell_type": "code",
   "execution_count": null,
   "metadata": {},
   "outputs": [],
   "source": [
    "# 합 분해 \n",
    "import sys\n",
    "\n",
    "n,k = map(int,sys.stdin.readline().split())\n",
    "n += 1\n",
    "k += 1\n",
    "m = [[0 for i in range(k)] for j in range(n)]\n",
    "for i in range(n):\n",
    "    for j in range(k):\n",
    "        if j == 0:\n",
    "            m[i][j] = 0\n",
    "        elif i == 1:\n",
    "            m[i][j] = j\n",
    "        else:\n",
    "            m[i][j] = m[i-1][j] + m[i][j-1]\n",
    "print(m[n-1][k-1]%1000000000)"
   ]
  }
 ],
 "metadata": {
  "kernelspec": {
   "display_name": "Python 3",
   "language": "python",
   "name": "python3"
  },
  "language_info": {
   "codemirror_mode": {
    "name": "ipython",
    "version": 3
   },
   "file_extension": ".py",
   "mimetype": "text/x-python",
   "name": "python",
   "nbconvert_exporter": "python",
   "pygments_lexer": "ipython3",
   "version": "3.7.6"
  }
 },
 "nbformat": 4,
 "nbformat_minor": 5
}
