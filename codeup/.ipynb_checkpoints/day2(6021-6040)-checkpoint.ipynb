{
 "cells": [
  {
   "cell_type": "markdown",
   "id": "c7438f5a",
   "metadata": {},
   "source": [
    "# 코드업 기초 100제 21-40번\n",
    "\n",
    "### 미해결한 문제\n",
    "- 없음"
   ]
  },
  {
   "cell_type": "code",
   "execution_count": 1,
   "id": "571b9d75",
   "metadata": {},
   "outputs": [
    {
     "name": "stdout",
     "output_type": "stream",
     "text": [
      "Hello\n",
      "H\n",
      "e\n",
      "l\n",
      "l\n",
      "o\n"
     ]
    }
   ],
   "source": [
    "# 6021\n",
    "s = input()\n",
    "for c in s:\n",
    "    print(c)"
   ]
  },
  {
   "cell_type": "code",
   "execution_count": 4,
   "id": "c0847014",
   "metadata": {},
   "outputs": [
    {
     "name": "stdout",
     "output_type": "stream",
     "text": [
      "200304\n",
      "20 03 04 "
     ]
    }
   ],
   "source": [
    "# 6022\n",
    "date = input()\n",
    "for i in range(3):\n",
    "    print(date[i*2:i*2+2],end = ' ')"
   ]
  },
  {
   "cell_type": "code",
   "execution_count": 5,
   "id": "d6ffeb3c",
   "metadata": {},
   "outputs": [
    {
     "name": "stdout",
     "output_type": "stream",
     "text": [
      "17:23:57\n",
      "23\n"
     ]
    }
   ],
   "source": [
    "# 6023\n",
    "date = input()\n",
    "h,m,s = date.split(':')\n",
    "print(m)"
   ]
  },
  {
   "cell_type": "code",
   "execution_count": 7,
   "id": "5e99807b",
   "metadata": {},
   "outputs": [
    {
     "name": "stdout",
     "output_type": "stream",
     "text": [
      "hello world\n",
      "helloworld\n"
     ]
    }
   ],
   "source": [
    "# 6024\n",
    "s1,s2 = input().split()\n",
    "print(s1+s2)"
   ]
  },
  {
   "cell_type": "code",
   "execution_count": 8,
   "id": "dec736cc",
   "metadata": {},
   "outputs": [
    {
     "name": "stdout",
     "output_type": "stream",
     "text": [
      "123 -123\n",
      "0\n"
     ]
    }
   ],
   "source": [
    "# 6025\n",
    "i1,i2 = input().split()\n",
    "print(int(i1)+int(i2))"
   ]
  },
  {
   "cell_type": "code",
   "execution_count": 11,
   "id": "c2ba046f",
   "metadata": {},
   "outputs": [
    {
     "name": "stdout",
     "output_type": "stream",
     "text": [
      "0.1\n",
      "0.9\n",
      "1.0\n"
     ]
    }
   ],
   "source": [
    "# 6026\n",
    "i1 = input()\n",
    "i2 = input()\n",
    "print(float(i1)+float(i2))"
   ]
  },
  {
   "cell_type": "code",
   "execution_count": 14,
   "id": "468fe11f",
   "metadata": {},
   "outputs": [
    {
     "name": "stdout",
     "output_type": "stream",
     "text": [
      "255\n",
      "ff\n"
     ]
    }
   ],
   "source": [
    "# 6027 - 10진수를 소문자 16진수로 출력하기\n",
    "d = int(input())\n",
    "print('%x'%d)"
   ]
  },
  {
   "cell_type": "code",
   "execution_count": 15,
   "id": "1fcbbe18",
   "metadata": {},
   "outputs": [
    {
     "name": "stdout",
     "output_type": "stream",
     "text": [
      "255\n",
      "FF\n"
     ]
    }
   ],
   "source": [
    "# 6028 - 10진수를 대문자 16진수로 출력하기\n",
    "d = int(input())\n",
    "print('%X'%d)"
   ]
  },
  {
   "cell_type": "code",
   "execution_count": 16,
   "id": "e4bb2591",
   "metadata": {},
   "outputs": [
    {
     "name": "stdout",
     "output_type": "stream",
     "text": [
      "f\n",
      "17\n"
     ]
    }
   ],
   "source": [
    "# 6029 - 16진수를 입력받아 8진수로 출력하기\n",
    "h = int(input(),16)\n",
    "print('%o'%h)"
   ]
  },
  {
   "cell_type": "code",
   "execution_count": 17,
   "id": "d7d6e348",
   "metadata": {},
   "outputs": [
    {
     "name": "stdout",
     "output_type": "stream",
     "text": [
      "A\n",
      "65\n"
     ]
    }
   ],
   "source": [
    "# 6030 - 문자를 10진수 아스키코드 값으로 변환하여 출력하기\n",
    "c = ord(input())\n",
    "print(c)"
   ]
  },
  {
   "cell_type": "code",
   "execution_count": 18,
   "id": "ed55fd12",
   "metadata": {},
   "outputs": [
    {
     "name": "stdout",
     "output_type": "stream",
     "text": [
      "65\n",
      "A\n"
     ]
    }
   ],
   "source": [
    "# 6031 10진 정수를 유니코드 문자로 변환하기\n",
    "i = int(input())\n",
    "print(chr(i))"
   ]
  },
  {
   "cell_type": "code",
   "execution_count": 20,
   "id": "be16c019",
   "metadata": {},
   "outputs": [
    {
     "name": "stdout",
     "output_type": "stream",
     "text": [
      "1\n",
      "-1\n"
     ]
    }
   ],
   "source": [
    "# 6032\n",
    "i = int(input())\n",
    "print(-i)"
   ]
  },
  {
   "cell_type": "code",
   "execution_count": 24,
   "id": "01cc4269",
   "metadata": {},
   "outputs": [
    {
     "name": "stdout",
     "output_type": "stream",
     "text": [
      "a\n",
      "b\n"
     ]
    }
   ],
   "source": [
    "# 6033\n",
    "c = input()\n",
    "print(chr(ord(c)+1))"
   ]
  },
  {
   "cell_type": "code",
   "execution_count": 26,
   "id": "aaef178c",
   "metadata": {},
   "outputs": [
    {
     "name": "stdout",
     "output_type": "stream",
     "text": [
      "123 -123\n",
      "246\n"
     ]
    }
   ],
   "source": [
    "# 6034\n",
    "i1,i2 = input().split()\n",
    "print(int(i1) - int(i2))"
   ]
  },
  {
   "cell_type": "code",
   "execution_count": 29,
   "id": "861a5238",
   "metadata": {},
   "outputs": [
    {
     "name": "stdout",
     "output_type": "stream",
     "text": [
      "0.5 2.0\n",
      "1.0\n"
     ]
    }
   ],
   "source": [
    "# 6035\n",
    "f1,f2 = input().split()\n",
    "print(float(f1) * float(f2))"
   ]
  },
  {
   "cell_type": "code",
   "execution_count": 30,
   "id": "0d8bb419",
   "metadata": {},
   "outputs": [
    {
     "name": "stdout",
     "output_type": "stream",
     "text": [
      "love 3\n",
      "lovelovelove"
     ]
    }
   ],
   "source": [
    "# 6036\n",
    "s,c = input().split()\n",
    "for i in range(int(c)):\n",
    "    print(s,end='')"
   ]
  },
  {
   "cell_type": "code",
   "execution_count": 31,
   "id": "f1f66688",
   "metadata": {},
   "outputs": [
    {
     "name": "stdout",
     "output_type": "stream",
     "text": [
      "3\n",
      "I love CS\n",
      "I love CSI love CSI love CS"
     ]
    }
   ],
   "source": [
    "# 6037\n",
    "c = input()\n",
    "s = input()\n",
    "for i in range(int(c)):\n",
    "    print(s,end='')"
   ]
  },
  {
   "cell_type": "code",
   "execution_count": 32,
   "id": "8f1e9b19",
   "metadata": {},
   "outputs": [
    {
     "name": "stdout",
     "output_type": "stream",
     "text": [
      "2 10\n",
      "1024\n"
     ]
    }
   ],
   "source": [
    "# 6038\n",
    "a,b = input().split()\n",
    "print(int(a)**int(b))"
   ]
  },
  {
   "cell_type": "code",
   "execution_count": 33,
   "id": "16bc2be6",
   "metadata": {},
   "outputs": [
    {
     "name": "stdout",
     "output_type": "stream",
     "text": [
      "4.0 2.0\n",
      "16.0\n"
     ]
    }
   ],
   "source": [
    "# 6039\n",
    "a,b = input().split()\n",
    "print(float(a)**float(b))"
   ]
  },
  {
   "cell_type": "code",
   "execution_count": 35,
   "id": "98616dff",
   "metadata": {},
   "outputs": [
    {
     "name": "stdout",
     "output_type": "stream",
     "text": [
      "10 3\n",
      "3\n"
     ]
    }
   ],
   "source": [
    "# 6040\n",
    "a,b = input().split()\n",
    "print(int(a) // int(b))"
   ]
  },
  {
   "cell_type": "code",
   "execution_count": null,
   "id": "99b3c0eb",
   "metadata": {},
   "outputs": [],
   "source": []
  }
 ],
 "metadata": {
  "kernelspec": {
   "display_name": "Python 3 (ipykernel)",
   "language": "python",
   "name": "python3"
  },
  "language_info": {
   "codemirror_mode": {
    "name": "ipython",
    "version": 3
   },
   "file_extension": ".py",
   "mimetype": "text/x-python",
   "name": "python",
   "nbconvert_exporter": "python",
   "pygments_lexer": "ipython3",
   "version": "3.9.6"
  }
 },
 "nbformat": 4,
 "nbformat_minor": 5
}
