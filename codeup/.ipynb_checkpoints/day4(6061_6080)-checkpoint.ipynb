{
 "cells": [
  {
   "cell_type": "markdown",
   "id": "011711e5",
   "metadata": {},
   "source": [
    "# 코드업 기초 100제 61-80번\n",
    "\n",
    "### 미해결한 문제\n",
    "- 없음"
   ]
  },
  {
   "cell_type": "code",
   "execution_count": 1,
   "id": "9c0abb2a",
   "metadata": {},
   "outputs": [
    {
     "name": "stdout",
     "output_type": "stream",
     "text": [
      "3 5\n",
      "7\n"
     ]
    }
   ],
   "source": [
    "# 6061\n",
    "a,b = input().split()\n",
    "a = int(a)\n",
    "b = int(b)\n",
    "print(a|b)"
   ]
  },
  {
   "cell_type": "code",
   "execution_count": 2,
   "id": "cd08bd43",
   "metadata": {},
   "outputs": [
    {
     "name": "stdout",
     "output_type": "stream",
     "text": [
      "3 5\n",
      "6\n"
     ]
    }
   ],
   "source": [
    "# 6062\n",
    "a,b = input().split()\n",
    "a = int(a)\n",
    "b = int(b)\n",
    "print(a^b)"
   ]
  },
  {
   "cell_type": "code",
   "execution_count": 3,
   "id": "41dec368",
   "metadata": {},
   "outputs": [
    {
     "name": "stdout",
     "output_type": "stream",
     "text": [
      "123 456\n",
      "456\n"
     ]
    }
   ],
   "source": [
    "# 6063 - 기초 3항 연산\n",
    "a,b = input().split()\n",
    "a = int(a)\n",
    "b = int(b)\n",
    "print(a if a>b else b)"
   ]
  },
  {
   "cell_type": "code",
   "execution_count": 4,
   "id": "ac7d2056",
   "metadata": {},
   "outputs": [
    {
     "name": "stdout",
     "output_type": "stream",
     "text": [
      "3 -1 5\n",
      "-1\n"
     ]
    }
   ],
   "source": [
    "# 6064 - 기초 3항 연산\n",
    "a,b,c = input().split()\n",
    "a = int(a)\n",
    "b = int(b)\n",
    "c = int(c)\n",
    "print((a if a<b else b) if (a if a<b else b) < c else c)"
   ]
  },
  {
   "cell_type": "code",
   "execution_count": 5,
   "id": "6a4f9f7d",
   "metadata": {},
   "outputs": [
    {
     "name": "stdout",
     "output_type": "stream",
     "text": [
      "1 2 4\n",
      "2\n",
      "4\n"
     ]
    }
   ],
   "source": [
    "# 6065\n",
    "a = input().split()\n",
    "for i in a:\n",
    "    if int(i) % 2 == 0:\n",
    "        print(int(i))"
   ]
  },
  {
   "cell_type": "code",
   "execution_count": 7,
   "id": "d27b76b6",
   "metadata": {},
   "outputs": [
    {
     "name": "stdout",
     "output_type": "stream",
     "text": [
      "1 2 8\n",
      "odd\n",
      "even\n",
      "even\n"
     ]
    }
   ],
   "source": [
    "# 6066\n",
    "a = input().split()\n",
    "for i in a:\n",
    "    if int(i) % 2 == 0:\n",
    "        print('even')\n",
    "    else:\n",
    "        print('odd')"
   ]
  },
  {
   "cell_type": "code",
   "execution_count": 8,
   "id": "4cb0ab9a",
   "metadata": {},
   "outputs": [
    {
     "name": "stdout",
     "output_type": "stream",
     "text": [
      "-2147483648\n",
      "A\n"
     ]
    }
   ],
   "source": [
    "# 6067\n",
    "a = int(input())\n",
    "if a < 0:\n",
    "    if a % 2 == 0:\n",
    "        print('A')\n",
    "    else:\n",
    "        print('B')\n",
    "else:\n",
    "    if a % 2 == 0:\n",
    "        print('C')\n",
    "    else:\n",
    "        print('D')\n",
    "        "
   ]
  },
  {
   "cell_type": "code",
   "execution_count": 9,
   "id": "d3f39564",
   "metadata": {},
   "outputs": [
    {
     "name": "stdout",
     "output_type": "stream",
     "text": [
      "73\n",
      "B\n"
     ]
    }
   ],
   "source": [
    "# 6068\n",
    "score = int(input())\n",
    "if score >= 90:\n",
    "    print('A')\n",
    "elif score >= 70:\n",
    "    print('B')\n",
    "elif score >= 40:\n",
    "    print('C')\n",
    "else:\n",
    "    print('D')"
   ]
  },
  {
   "cell_type": "code",
   "execution_count": 12,
   "id": "d1864f1c",
   "metadata": {},
   "outputs": [
    {
     "name": "stdout",
     "output_type": "stream",
     "text": [
      "A\n",
      "best!!!\n"
     ]
    }
   ],
   "source": [
    "# 6069\n",
    "score = input()\n",
    "if score == 'A':\n",
    "    print('best!!!')\n",
    "elif score == 'B':\n",
    "    print('good!!')\n",
    "elif score == 'C':\n",
    "    print('run!')\n",
    "elif score == 'D':\n",
    "    print('slowly~')\n",
    "else:\n",
    "    print('what?')"
   ]
  },
  {
   "cell_type": "code",
   "execution_count": 13,
   "id": "26a88862",
   "metadata": {},
   "outputs": [
    {
     "name": "stdout",
     "output_type": "stream",
     "text": [
      "3\n",
      "spring\n"
     ]
    }
   ],
   "source": [
    "# 6070\n",
    "m = int(input())\n",
    "if m//3 == 1:\n",
    "    print('spring')\n",
    "elif m//3 == 2:\n",
    "    print('summer')\n",
    "elif m//3 == 3:\n",
    "    print('fall')\n",
    "else:\n",
    "    print('winter')"
   ]
  },
  {
   "cell_type": "code",
   "execution_count": 16,
   "id": "042ea7aa",
   "metadata": {},
   "outputs": [
    {
     "name": "stdout",
     "output_type": "stream",
     "text": [
      "7\n",
      "7\n",
      "4\n",
      "4\n",
      "2\n",
      "2\n",
      "3\n",
      "3\n",
      "0\n"
     ]
    }
   ],
   "source": [
    "# 6071\n",
    "n = int(input())\n",
    "while n != 0:\n",
    "    print(n)\n",
    "    n = int(input())"
   ]
  },
  {
   "cell_type": "code",
   "execution_count": 17,
   "id": "f77b35cd",
   "metadata": {},
   "outputs": [
    {
     "name": "stdout",
     "output_type": "stream",
     "text": [
      "5\n",
      "5\n",
      "4\n",
      "3\n",
      "2\n",
      "1\n"
     ]
    }
   ],
   "source": [
    "# 6072\n",
    "n = int(input())\n",
    "while n != 0:\n",
    "    print(n)\n",
    "    n -= 1"
   ]
  },
  {
   "cell_type": "code",
   "execution_count": 18,
   "id": "3d92571a",
   "metadata": {},
   "outputs": [
    {
     "name": "stdout",
     "output_type": "stream",
     "text": [
      "5\n",
      "4\n",
      "3\n",
      "2\n",
      "1\n",
      "0\n"
     ]
    }
   ],
   "source": [
    "# 6073\n",
    "n = int(input())\n",
    "while n != 0:\n",
    "    n -= 1\n",
    "    print(n)"
   ]
  },
  {
   "cell_type": "code",
   "execution_count": 22,
   "id": "72d4c1f7",
   "metadata": {},
   "outputs": [
    {
     "name": "stdout",
     "output_type": "stream",
     "text": [
      "f\n",
      "a b c d e f "
     ]
    }
   ],
   "source": [
    "# 6074\n",
    "a = ord(input())\n",
    "count = 97\n",
    "while count <= a:\n",
    "    print(chr(count),end=' ')\n",
    "    count += 1"
   ]
  },
  {
   "cell_type": "code",
   "execution_count": 23,
   "id": "e2cac935",
   "metadata": {},
   "outputs": [
    {
     "name": "stdout",
     "output_type": "stream",
     "text": [
      "4\n",
      "0\n",
      "1\n",
      "2\n",
      "3\n",
      "4\n"
     ]
    }
   ],
   "source": [
    "# 6075\n",
    "a = int(input())\n",
    "count = 0\n",
    "while count <= a:\n",
    "    print(count)\n",
    "    count += 1"
   ]
  },
  {
   "cell_type": "code",
   "execution_count": 24,
   "id": "4caff9c2",
   "metadata": {},
   "outputs": [
    {
     "name": "stdout",
     "output_type": "stream",
     "text": [
      "4\n",
      "0\n",
      "1\n",
      "2\n",
      "3\n",
      "4\n"
     ]
    }
   ],
   "source": [
    "# 6076\n",
    "a = int(input())\n",
    "for i in range(a+1):\n",
    "    print(i)"
   ]
  },
  {
   "cell_type": "code",
   "execution_count": 25,
   "id": "5eabbf6a",
   "metadata": {},
   "outputs": [
    {
     "name": "stdout",
     "output_type": "stream",
     "text": [
      "5\n",
      "6\n"
     ]
    }
   ],
   "source": [
    "# 6077\n",
    "a = int(input())\n",
    "sum = 0\n",
    "for i in range(a+1):\n",
    "    if i % 2 == 0:\n",
    "        sum += i\n",
    "print(sum)\n"
   ]
  },
  {
   "cell_type": "code",
   "execution_count": 27,
   "id": "c15eb24e",
   "metadata": {},
   "outputs": [
    {
     "name": "stdout",
     "output_type": "stream",
     "text": [
      "x\n",
      "x\n",
      "b\n",
      "b\n",
      "k\n",
      "k\n",
      "d\n",
      "d\n",
      "l\n",
      "l\n",
      "q\n",
      "q\n"
     ]
    }
   ],
   "source": [
    "# 6078\n",
    "a = input()\n",
    "while a != 'q':\n",
    "    print(a)\n",
    "    a = input()\n",
    "print(a)"
   ]
  },
  {
   "cell_type": "code",
   "execution_count": 29,
   "id": "e939fc98",
   "metadata": {},
   "outputs": [
    {
     "name": "stdout",
     "output_type": "stream",
     "text": [
      "55\n",
      "10\n"
     ]
    }
   ],
   "source": [
    "# 6079\n",
    "a = int(input())\n",
    "sum = 0\n",
    "count = 0\n",
    "while sum < a:\n",
    "    count += 1\n",
    "    sum += count\n",
    "print(count)"
   ]
  },
  {
   "cell_type": "code",
   "execution_count": 33,
   "id": "8bf8d8bb",
   "metadata": {},
   "outputs": [
    {
     "name": "stdout",
     "output_type": "stream",
     "text": [
      "2 3\n",
      "1 1\n",
      "1 2\n",
      "1 3\n",
      "2 1\n",
      "2 2\n",
      "2 3\n"
     ]
    }
   ],
   "source": [
    "# 6080\n",
    "a,b = input().split()\n",
    "a = int(a)\n",
    "b = int(b)\n",
    "for i in range(1,a+1):\n",
    "    for j in range(1,b+1):\n",
    "        print(i,j)"
   ]
  },
  {
   "cell_type": "code",
   "execution_count": null,
   "id": "b638b96f",
   "metadata": {},
   "outputs": [],
   "source": []
  }
 ],
 "metadata": {
  "kernelspec": {
   "display_name": "Python 3 (ipykernel)",
   "language": "python",
   "name": "python3"
  },
  "language_info": {
   "codemirror_mode": {
    "name": "ipython",
    "version": 3
   },
   "file_extension": ".py",
   "mimetype": "text/x-python",
   "name": "python",
   "nbconvert_exporter": "python",
   "pygments_lexer": "ipython3",
   "version": "3.9.6"
  }
 },
 "nbformat": 4,
 "nbformat_minor": 5
}
