{
 "cells": [
  {
   "cell_type": "code",
   "execution_count": 3,
   "id": "5932327b",
   "metadata": {},
   "outputs": [
    {
     "name": "stdout",
     "output_type": "stream",
     "text": [
      "10 3\n",
      "1\n"
     ]
    }
   ],
   "source": [
    "#41번\n",
    "a,b = input().split()\n",
    "print(int(a)%int(b))"
   ]
  },
  {
   "cell_type": "code",
   "execution_count": 4,
   "id": "d85abb50",
   "metadata": {},
   "outputs": [
    {
     "name": "stdout",
     "output_type": "stream",
     "text": [
      "3.141592\n",
      "3.14\n"
     ]
    }
   ],
   "source": [
    "#42번\n",
    "a = float(input())\n",
    "print(format(a,\".2f\"))"
   ]
  },
  {
   "cell_type": "code",
   "execution_count": 5,
   "id": "20db3c39",
   "metadata": {},
   "outputs": [
    {
     "name": "stdout",
     "output_type": "stream",
     "text": [
      "10.0 3.0\n",
      "3.333\n"
     ]
    }
   ],
   "source": [
    "#43번\n",
    "a,b = input().split()\n",
    "print(format(float(a)/float(b),\".3f\"))"
   ]
  },
  {
   "cell_type": "code",
   "execution_count": 9,
   "id": "e046b2e2",
   "metadata": {},
   "outputs": [
    {
     "name": "stdout",
     "output_type": "stream",
     "text": [
      "10 3\n",
      "13\n",
      "7\n",
      "30\n",
      "3\n",
      "1\n",
      "3.33\n"
     ]
    }
   ],
   "source": [
    "#44번\n",
    "a,b = input().split()\n",
    "int_a = int(a)\n",
    "int_b = int(b)\n",
    "print(int_a+int_b)\n",
    "print(int_a - int_b)\n",
    "print(int_a * int_b)\n",
    "print(int_a // int_b)\n",
    "print(int_a % int_b)\n",
    "print(format(float(a)/float(b),\".2f\"))"
   ]
  },
  {
   "cell_type": "code",
   "execution_count": 12,
   "id": "1ecc192b",
   "metadata": {},
   "outputs": [
    {
     "name": "stdout",
     "output_type": "stream",
     "text": [
      "1 2 3\n",
      "6 2.00\n"
     ]
    }
   ],
   "source": [
    "#45번\n",
    "a,b,c = input().split()\n",
    "sum = int(a)+int(b)+int(c)\n",
    "avg = (int(a)+int(b)+int(c))/3\n",
    "print(sum, format(avg,\".2f\"))"
   ]
  },
  {
   "cell_type": "code",
   "execution_count": 14,
   "id": "3b74218a",
   "metadata": {},
   "outputs": [
    {
     "name": "stdout",
     "output_type": "stream",
     "text": [
      "1024\n",
      "2048\n"
     ]
    }
   ],
   "source": [
    "#46번\n",
    "a = input()\n",
    "print(int(a)<<1)"
   ]
  },
  {
   "cell_type": "code",
   "execution_count": 15,
   "id": "cd728c85",
   "metadata": {},
   "outputs": [
    {
     "name": "stdout",
     "output_type": "stream",
     "text": [
      "1 3\n",
      "8\n"
     ]
    }
   ],
   "source": [
    "#47번\n",
    "a,b = input().split()\n",
    "print(int(a)<<int(b))"
   ]
  },
  {
   "cell_type": "code",
   "execution_count": 16,
   "id": "cb140e5f",
   "metadata": {},
   "outputs": [
    {
     "name": "stdout",
     "output_type": "stream",
     "text": [
      "1 9\n",
      "True\n"
     ]
    }
   ],
   "source": [
    "#48번\n",
    "a,b = input().split()\n",
    "print(a<b)"
   ]
  },
  {
   "cell_type": "code",
   "execution_count": 17,
   "id": "1dd3474a",
   "metadata": {},
   "outputs": [
    {
     "name": "stdout",
     "output_type": "stream",
     "text": [
      "0 0\n",
      "True\n"
     ]
    }
   ],
   "source": [
    "#49번\n",
    "a,b = input().split()\n",
    "print(a==b)"
   ]
  },
  {
   "cell_type": "code",
   "execution_count": 19,
   "id": "dad438c0",
   "metadata": {},
   "outputs": [
    {
     "name": "stdout",
     "output_type": "stream",
     "text": [
      "0 -1\n",
      "False\n"
     ]
    }
   ],
   "source": [
    "#50번\n",
    "a,b = input().split()\n",
    "print(b>=a)"
   ]
  },
  {
   "cell_type": "code",
   "execution_count": 20,
   "id": "ee5fe2c2",
   "metadata": {},
   "outputs": [
    {
     "name": "stdout",
     "output_type": "stream",
     "text": [
      "0 1\n",
      "True\n"
     ]
    }
   ],
   "source": [
    "#51번\n",
    "a,b = input().split()\n",
    "print(a!=b)"
   ]
  },
  {
   "cell_type": "code",
   "execution_count": 21,
   "id": "aa3a4579",
   "metadata": {},
   "outputs": [
    {
     "name": "stdout",
     "output_type": "stream",
     "text": [
      "0\n",
      "False\n"
     ]
    }
   ],
   "source": [
    "#52번\n",
    "n = int(input())\n",
    "print(bool(n))"
   ]
  },
  {
   "cell_type": "code",
   "execution_count": 22,
   "id": "6f9ba3a0",
   "metadata": {},
   "outputs": [
    {
     "name": "stdout",
     "output_type": "stream",
     "text": [
      "1\n",
      "False\n"
     ]
    }
   ],
   "source": [
    "#53번\n",
    "a = bool(int(input()))\n",
    "print(not a)"
   ]
  },
  {
   "cell_type": "code",
   "execution_count": 23,
   "id": "c1351034",
   "metadata": {},
   "outputs": [
    {
     "name": "stdout",
     "output_type": "stream",
     "text": [
      "1 1\n",
      "True\n"
     ]
    }
   ],
   "source": [
    "#54번\n",
    "a,b = input().split()\n",
    "a = bool(int(a))\n",
    "b = bool(int(b))\n",
    "print(a and b)"
   ]
  },
  {
   "cell_type": "code",
   "execution_count": 24,
   "id": "65acd1d4",
   "metadata": {},
   "outputs": [
    {
     "name": "stdout",
     "output_type": "stream",
     "text": [
      "1 0\n",
      "True\n"
     ]
    }
   ],
   "source": [
    "#55번\n",
    "a,b = input().split()\n",
    "a = bool(int(a))\n",
    "b = bool(int(b))\n",
    "print(a or b)"
   ]
  },
  {
   "cell_type": "code",
   "execution_count": 25,
   "id": "a78cf478",
   "metadata": {},
   "outputs": [
    {
     "name": "stdout",
     "output_type": "stream",
     "text": [
      "1 1\n",
      "False\n"
     ]
    }
   ],
   "source": [
    "#56번\n",
    "a,b = input().split()\n",
    "c = bool(int(a))\n",
    "d = bool(int(b))\n",
    "print((c and (not d)) or ((not c) and d))"
   ]
  },
  {
   "cell_type": "code",
   "execution_count": 37,
   "id": "60bb80c4",
   "metadata": {
    "scrolled": true
   },
   "outputs": [
    {
     "name": "stdout",
     "output_type": "stream",
     "text": [
      "0 0\n",
      "True\n"
     ]
    }
   ],
   "source": [
    "#57번\n",
    "a,b = input().split()\n",
    "a = bool(int(a))\n",
    "b = bool(int(b))\n",
    "print(((not a) and b) or not(a and (not b)))"
   ]
  },
  {
   "cell_type": "code",
   "execution_count": 40,
   "id": "8d17cdb9",
   "metadata": {},
   "outputs": [
    {
     "name": "stdout",
     "output_type": "stream",
     "text": [
      " 0 0\n",
      "True\n"
     ]
    }
   ],
   "source": [
    "#58번\n",
    "a,b = input().split()\n",
    "a = bool(int(a))\n",
    "b = bool(int(b))\n",
    "print(not(a or b))"
   ]
  },
  {
   "cell_type": "code",
   "execution_count": 42,
   "id": "11f5b1c2",
   "metadata": {},
   "outputs": [
    {
     "name": "stdout",
     "output_type": "stream",
     "text": [
      "2\n",
      "-3\n"
     ]
    }
   ],
   "source": [
    "#59번\n",
    "a = input()\n",
    "print(~int(a))"
   ]
  },
  {
   "cell_type": "code",
   "execution_count": 43,
   "id": "a1a2691c",
   "metadata": {},
   "outputs": [
    {
     "name": "stdout",
     "output_type": "stream",
     "text": [
      "3 5\n",
      "1\n"
     ]
    }
   ],
   "source": [
    "#60번\n",
    "a,b = input().split()\n",
    "print(int(a)&int(b))"
   ]
  }
 ],
 "metadata": {
  "kernelspec": {
   "display_name": "Python 3 (ipykernel)",
   "language": "python",
   "name": "python3"
  },
  "language_info": {
   "codemirror_mode": {
    "name": "ipython",
    "version": 3
   },
   "file_extension": ".py",
   "mimetype": "text/x-python",
   "name": "python",
   "nbconvert_exporter": "python",
   "pygments_lexer": "ipython3",
   "version": "3.9.0"
  }
 },
 "nbformat": 4,
 "nbformat_minor": 5
}
