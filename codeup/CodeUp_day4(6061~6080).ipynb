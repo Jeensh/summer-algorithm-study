{
 "cells": [
  {
   "cell_type": "code",
   "execution_count": 1,
   "id": "a4e395a5",
   "metadata": {},
   "outputs": [
    {
     "name": "stdout",
     "output_type": "stream",
     "text": [
      "3 5\n",
      "7\n"
     ]
    }
   ],
   "source": [
    "# 61번\n",
    "a,b = input().split()\n",
    "print(int(a)|int(b))"
   ]
  },
  {
   "cell_type": "code",
   "execution_count": 2,
   "id": "86a8ca0f",
   "metadata": {},
   "outputs": [
    {
     "name": "stdout",
     "output_type": "stream",
     "text": [
      "3 5\n",
      "6\n"
     ]
    }
   ],
   "source": [
    "# 62번\n",
    "a,b = input().split()\n",
    "print(int(a)^int(b))"
   ]
  },
  {
   "cell_type": "code",
   "execution_count": 3,
   "id": "625ebe95",
   "metadata": {},
   "outputs": [
    {
     "name": "stdout",
     "output_type": "stream",
     "text": [
      "123 456\n",
      "456\n"
     ]
    }
   ],
   "source": [
    "# 63번\n",
    "a,b = input().split()\n",
    "a = int(a)\n",
    "b = int(b)\n",
    "c = (a if(a>b)else b)\n",
    "print(c)"
   ]
  },
  {
   "cell_type": "code",
   "execution_count": 6,
   "id": "72541da7",
   "metadata": {},
   "outputs": [
    {
     "name": "stdout",
     "output_type": "stream",
     "text": [
      "3 -1 5\n",
      "-1\n"
     ]
    }
   ],
   "source": [
    "# 64번\n",
    "a,b,c = input().split()\n",
    "a = int(a)\n",
    "b = int(b)\n",
    "c = int(c)\n",
    "print((a if a<b else b) if ((a if a<b else b)<c) else c)"
   ]
  },
  {
   "cell_type": "code",
   "execution_count": 13,
   "id": "70f439bd",
   "metadata": {},
   "outputs": [
    {
     "name": "stdout",
     "output_type": "stream",
     "text": [
      "1 2 4\n",
      "2\n",
      "4\n"
     ]
    }
   ],
   "source": [
    "#65번\n",
    "a,b,c = input().split()\n",
    "if int(a)%2==0 :\n",
    "    print(a)\n",
    "if int(b) % 2==0 :\n",
    "    print(b)\n",
    "if int(c) % 2==0 :\n",
    "    print(c)"
   ]
  },
  {
   "cell_type": "code",
   "execution_count": 12,
   "id": "dcc363e2",
   "metadata": {},
   "outputs": [
    {
     "name": "stdout",
     "output_type": "stream",
     "text": [
      "1 2 8\n",
      "odd\n",
      "even\n",
      "even\n"
     ]
    }
   ],
   "source": [
    "# 66번\n",
    "a,b,c = input().split()\n",
    "if int(a)%2==0 :\n",
    "    print(\"even\")\n",
    "else :\n",
    "    print(\"odd\")\n",
    "if int(b)%2==0:\n",
    "    print(\"even\")\n",
    "else :\n",
    "        print(\"odd\")\n",
    "if int(c)%2==0 :\n",
    "    print(\"even\")\n",
    "else :\n",
    "        print(\"odd\")"
   ]
  },
  {
   "cell_type": "code",
   "execution_count": 16,
   "id": "fd6ae1ae",
   "metadata": {},
   "outputs": [
    {
     "name": "stdout",
     "output_type": "stream",
     "text": [
      "-2147483648\n",
      "A\n"
     ]
    }
   ],
   "source": [
    "# 67번\n",
    "a = int(input())\n",
    "if a<0 :\n",
    "    if a%2==0 :\n",
    "        print('A')\n",
    "    else :\n",
    "        print('B')\n",
    "else :\n",
    "    if(a%2==0):\n",
    "        print('C')\n",
    "    else :\n",
    "        print('D')"
   ]
  },
  {
   "cell_type": "code",
   "execution_count": 17,
   "id": "0e70c5f1",
   "metadata": {},
   "outputs": [
    {
     "name": "stdout",
     "output_type": "stream",
     "text": [
      "73\n",
      "B\n"
     ]
    }
   ],
   "source": [
    "# 68번\n",
    "a = int(input())\n",
    "if a>90 :\n",
    "    print('A')\n",
    "elif a>70 :\n",
    "    print('B')\n",
    "elif a>40 :\n",
    "    print('C')\n",
    "else :\n",
    "    print('D')"
   ]
  },
  {
   "cell_type": "code",
   "execution_count": 18,
   "id": "b631a856",
   "metadata": {},
   "outputs": [
    {
     "name": "stdout",
     "output_type": "stream",
     "text": [
      "A\n",
      "best!!!\n"
     ]
    }
   ],
   "source": [
    "# 69번\n",
    "a = input()\n",
    "if a == 'A' :\n",
    "    print('best!!!')\n",
    "elif a =='B' :\n",
    "    print('good!!')\n",
    "elif a == 'C' :\n",
    "    print('run!')\n",
    "elif a =='D':\n",
    "    print('slowly~')\n",
    "else :\n",
    "    print('what?')"
   ]
  },
  {
   "cell_type": "code",
   "execution_count": 28,
   "id": "29a7b35a",
   "metadata": {},
   "outputs": [
    {
     "name": "stdout",
     "output_type": "stream",
     "text": [
      "12\n",
      "winter\n"
     ]
    }
   ],
   "source": [
    "# 70번\n",
    "a = int(input())\n",
    "if a==3 or a==4 or a==5:\n",
    "    print('spring')\n",
    "elif a==6 or a==7 or a==8:\n",
    "    print('summer')\n",
    "elif a==9 or a==10 or a==11:\n",
    "    print('fall')\n",
    "else :\n",
    "    print('winter')"
   ]
  },
  {
   "cell_type": "code",
   "execution_count": 30,
   "id": "57d0efe1",
   "metadata": {},
   "outputs": [
    {
     "name": "stdout",
     "output_type": "stream",
     "text": [
      "7\n",
      "7\n",
      "4\n",
      "4\n",
      "2\n",
      "2\n",
      "3\n",
      "3\n",
      "0\n"
     ]
    }
   ],
   "source": [
    "# 71번\n",
    "n = 1\n",
    "while n!=0 :\n",
    "    n = int(input())\n",
    "    if n != 0 :\n",
    "        print(n)"
   ]
  },
  {
   "cell_type": "code",
   "execution_count": 33,
   "id": "06f24e7f",
   "metadata": {},
   "outputs": [
    {
     "name": "stdout",
     "output_type": "stream",
     "text": [
      "5\n",
      "5\n",
      "4\n",
      "3\n",
      "2\n",
      "1\n"
     ]
    }
   ],
   "source": [
    "# 72번\n",
    "n = int(input())\n",
    "while n!=0:\n",
    "    print(n)\n",
    "    n = n-1"
   ]
  },
  {
   "cell_type": "code",
   "execution_count": 34,
   "id": "71565ba6",
   "metadata": {},
   "outputs": [
    {
     "name": "stdout",
     "output_type": "stream",
     "text": [
      "5\n",
      "4\n",
      "3\n",
      "2\n",
      "1\n",
      "0\n"
     ]
    }
   ],
   "source": [
    "# 73번\n",
    "n = int(input())\n",
    "while n!=0:\n",
    "    print(n-1)\n",
    "    n = n-1"
   ]
  },
  {
   "cell_type": "code",
   "execution_count": 37,
   "id": "acd4d628",
   "metadata": {},
   "outputs": [
    {
     "name": "stdout",
     "output_type": "stream",
     "text": [
      "f\n",
      "a b c d e f "
     ]
    }
   ],
   "source": [
    "# 74번\n",
    "a = ord(input())\n",
    "b = ord('a')\n",
    "while b<=a:\n",
    "    print(chr(b),end = ' ')\n",
    "    b = b+1"
   ]
  },
  {
   "cell_type": "code",
   "execution_count": 38,
   "id": "caad955e",
   "metadata": {},
   "outputs": [
    {
     "name": "stdout",
     "output_type": "stream",
     "text": [
      "4\n",
      "0\n",
      "1\n",
      "2\n",
      "3\n",
      "4\n"
     ]
    }
   ],
   "source": [
    "# 75번\n",
    "a = int(input())\n",
    "b = 0\n",
    "while b<=a:\n",
    "    print(b)\n",
    "    b = b+1"
   ]
  },
  {
   "cell_type": "code",
   "execution_count": 39,
   "id": "b91534f0",
   "metadata": {},
   "outputs": [
    {
     "name": "stdout",
     "output_type": "stream",
     "text": [
      "4\n",
      "0\n",
      "1\n",
      "2\n",
      "3\n",
      "4\n"
     ]
    }
   ],
   "source": [
    "# 76번\n",
    "a = int(input())\n",
    "for i in range(a+1):\n",
    "    print(i)"
   ]
  },
  {
   "cell_type": "code",
   "execution_count": 44,
   "id": "bcfd59c2",
   "metadata": {},
   "outputs": [
    {
     "name": "stdout",
     "output_type": "stream",
     "text": [
      "5\n",
      "6\n"
     ]
    }
   ],
   "source": [
    "# 77번\n",
    "a = int(input())\n",
    "sum = 0\n",
    "for i in range(a+1):\n",
    "    if i%2==0:\n",
    "        sum+=i\n",
    "print(sum)"
   ]
  },
  {
   "cell_type": "code",
   "execution_count": 55,
   "id": "b24440af",
   "metadata": {},
   "outputs": [
    {
     "name": "stdout",
     "output_type": "stream",
     "text": [
      "x\n",
      "x\n",
      "b\n",
      "b\n",
      "k\n",
      "k\n",
      "d\n",
      "d\n",
      "i\n",
      "i\n",
      "g\n",
      "g\n",
      "a\n",
      "a\n",
      "c\n",
      "c\n",
      "q\n",
      "q\n"
     ]
    }
   ],
   "source": [
    "# 78번\n",
    "\n",
    "while chr!='q':\n",
    "    chr = input()\n",
    "    print(chr)"
   ]
  },
  {
   "cell_type": "code",
   "execution_count": 75,
   "id": "a7a07557",
   "metadata": {},
   "outputs": [
    {
     "name": "stdout",
     "output_type": "stream",
     "text": [
      "55\n",
      "10\n"
     ]
    }
   ],
   "source": [
    "#79번\n",
    "a = int(input())\n",
    "sum = 0\n",
    "b = 0\n",
    "while sum<a:\n",
    "    sum += b\n",
    "    b = b+1\n",
    "print(b-1)\n"
   ]
  },
  {
   "cell_type": "code",
   "execution_count": 76,
   "id": "baf75cd9",
   "metadata": {},
   "outputs": [
    {
     "name": "stdout",
     "output_type": "stream",
     "text": [
      "2 3\n",
      "1 1\n",
      "1 2\n",
      "1 3\n",
      "2 1\n",
      "2 2\n",
      "2 3\n"
     ]
    }
   ],
   "source": [
    "# 80번\n",
    "a,b = input().split()\n",
    "a = int(a)\n",
    "b = int(b)\n",
    "for i in range (1,a+1):\n",
    "    for j in range(1, b+1):\n",
    "        print(i,j)"
   ]
  }
 ],
 "metadata": {
  "kernelspec": {
   "display_name": "Python 3 (ipykernel)",
   "language": "python",
   "name": "python3"
  },
  "language_info": {
   "codemirror_mode": {
    "name": "ipython",
    "version": 3
   },
   "file_extension": ".py",
   "mimetype": "text/x-python",
   "name": "python",
   "nbconvert_exporter": "python",
   "pygments_lexer": "ipython3",
   "version": "3.9.0"
  }
 },
 "nbformat": 4,
 "nbformat_minor": 5
}
