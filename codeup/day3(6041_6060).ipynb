{
 "cells": [
  {
   "cell_type": "markdown",
   "id": "64dcc708",
   "metadata": {},
   "source": [
    "# 코드업 기초 100제 41-60번\n",
    "\n",
    "### 미해결한 문제\n",
    "- 없음"
   ]
  },
  {
   "cell_type": "code",
   "execution_count": 1,
   "id": "8f57d6e1",
   "metadata": {},
   "outputs": [
    {
     "name": "stdout",
     "output_type": "stream",
     "text": [
      "10 3\n",
      "1\n"
     ]
    }
   ],
   "source": [
    "# 6041\n",
    "a,b = input().split()\n",
    "print(int(a)%int(b))"
   ]
  },
  {
   "cell_type": "code",
   "execution_count": 3,
   "id": "ceb9e9c3",
   "metadata": {},
   "outputs": [
    {
     "name": "stdout",
     "output_type": "stream",
     "text": [
      "3.14592\n",
      "3.15\n"
     ]
    }
   ],
   "source": [
    "# 6042 - 실수 소수점이하 자리 변환하기\n",
    "a = float(input())\n",
    "print(format(a,\".2f\"))"
   ]
  },
  {
   "cell_type": "code",
   "execution_count": 4,
   "id": "abb1ec89",
   "metadata": {},
   "outputs": [
    {
     "name": "stdout",
     "output_type": "stream",
     "text": [
      "10.0 3.0\n",
      "3.333\n"
     ]
    }
   ],
   "source": [
    "# 6043\n",
    "a,b = input().split()\n",
    "a = float(a)\n",
    "b = float(b)\n",
    "print(format(a/b,\".3f\"))"
   ]
  },
  {
   "cell_type": "code",
   "execution_count": 5,
   "id": "4af7335f",
   "metadata": {},
   "outputs": [
    {
     "name": "stdout",
     "output_type": "stream",
     "text": [
      "10 3\n",
      "13\n",
      "7\n",
      "30\n",
      "3\n",
      "1\n",
      "3.33\n"
     ]
    }
   ],
   "source": [
    "# 6044\n",
    "a,b = input().split()\n",
    "a = int(a)\n",
    "b = int(b)\n",
    "print(a+b)\n",
    "print(a-b)\n",
    "print(a*b)\n",
    "print(a//b)\n",
    "print(a%b)\n",
    "print(format(float(a)/float(b),\".2f\"))"
   ]
  },
  {
   "cell_type": "code",
   "execution_count": 7,
   "id": "a96bdf43",
   "metadata": {},
   "outputs": [
    {
     "name": "stdout",
     "output_type": "stream",
     "text": [
      "1 2 3\n",
      "6 2.00\n"
     ]
    }
   ],
   "source": [
    "# 6045\n",
    "a,b,c = input().split()\n",
    "avg = int(a)+int(b)+int(c)\n",
    "print(avg, format(avg/3.0,\".2f\"))"
   ]
  },
  {
   "cell_type": "code",
   "execution_count": 9,
   "id": "518edb1f",
   "metadata": {},
   "outputs": [
    {
     "name": "stdout",
     "output_type": "stream",
     "text": [
      "1024\n",
      "2048\n"
     ]
    }
   ],
   "source": [
    "# 6046 - 비트시프트연산\n",
    "a = int(input())\n",
    "print(a<<1)"
   ]
  },
  {
   "cell_type": "code",
   "execution_count": 13,
   "id": "927e91df",
   "metadata": {},
   "outputs": [
    {
     "name": "stdout",
     "output_type": "stream",
     "text": [
      "1 3\n",
      "8\n"
     ]
    }
   ],
   "source": [
    "# 6047 - 비트시프트연산\n",
    "a,b = input().split()\n",
    "a = int(a)\n",
    "b = int(b)\n",
    "print(a*(1<<b))"
   ]
  },
  {
   "cell_type": "code",
   "execution_count": 15,
   "id": "e790afc5",
   "metadata": {},
   "outputs": [
    {
     "name": "stdout",
     "output_type": "stream",
     "text": [
      "1 9\n",
      "True\n"
     ]
    }
   ],
   "source": [
    "# 6048\n",
    "a,b = input().split()\n",
    "a = int(a)\n",
    "b = int(b)\n",
    "print(a<b)"
   ]
  },
  {
   "cell_type": "code",
   "execution_count": 16,
   "id": "57869a5a",
   "metadata": {},
   "outputs": [
    {
     "name": "stdout",
     "output_type": "stream",
     "text": [
      "0 0\n",
      "True\n"
     ]
    }
   ],
   "source": [
    "# 6049\n",
    "a,b = input().split()\n",
    "print(int(a)==int(b))"
   ]
  },
  {
   "cell_type": "code",
   "execution_count": 17,
   "id": "7f29f1b6",
   "metadata": {},
   "outputs": [
    {
     "name": "stdout",
     "output_type": "stream",
     "text": [
      "0 -1\n",
      "False\n"
     ]
    }
   ],
   "source": [
    "# 6050\n",
    "a,b = input().split()\n",
    "a = int(a)\n",
    "b = int(b)\n",
    "print(b>=a)"
   ]
  },
  {
   "cell_type": "code",
   "execution_count": 18,
   "id": "855f56d4",
   "metadata": {},
   "outputs": [
    {
     "name": "stdout",
     "output_type": "stream",
     "text": [
      "0 1\n",
      "True\n"
     ]
    }
   ],
   "source": [
    "# 6051\n",
    "a,b = input().split()\n",
    "a = int(a)\n",
    "b = int(b)\n",
    "print(b!=a)"
   ]
  },
  {
   "cell_type": "code",
   "execution_count": 20,
   "id": "8a34ba47",
   "metadata": {},
   "outputs": [
    {
     "name": "stdout",
     "output_type": "stream",
     "text": [
      "0\n",
      "False\n"
     ]
    }
   ],
   "source": [
    "# 6052\n",
    "a = int(input())\n",
    "print(a!=0)"
   ]
  },
  {
   "cell_type": "code",
   "execution_count": 22,
   "id": "37bf1730",
   "metadata": {},
   "outputs": [
    {
     "name": "stdout",
     "output_type": "stream",
     "text": [
      "1\n",
      "False\n"
     ]
    }
   ],
   "source": [
    "# 6053\n",
    "a = int(input())\n",
    "print(not bool(a))"
   ]
  },
  {
   "cell_type": "code",
   "execution_count": 25,
   "id": "f7969694",
   "metadata": {},
   "outputs": [
    {
     "name": "stdout",
     "output_type": "stream",
     "text": [
      "1 0\n",
      "False\n"
     ]
    }
   ],
   "source": [
    "# 6054\n",
    "a,b = input().split()\n",
    "a = bool(int(a))\n",
    "b = bool(int(b))\n",
    "print(a and b)"
   ]
  },
  {
   "cell_type": "code",
   "execution_count": 24,
   "id": "bc8b76a7",
   "metadata": {},
   "outputs": [],
   "source": [
    "# 6055\n",
    "a,b = input().split()\n",
    "a = bool(int(a))\n",
    "b = bool(int(b))\n",
    "print(a or b)"
   ]
  },
  {
   "cell_type": "code",
   "execution_count": 28,
   "id": "17f9d0c4",
   "metadata": {},
   "outputs": [
    {
     "name": "stdout",
     "output_type": "stream",
     "text": [
      "1 0\n",
      "True\n"
     ]
    }
   ],
   "source": [
    "# 6056\n",
    "a,b = input().split()\n",
    "a = bool(int(a))\n",
    "b = bool(int(b))\n",
    "print((a and (not b)) or ((not a) and b))"
   ]
  },
  {
   "cell_type": "code",
   "execution_count": 29,
   "id": "f421c2cc",
   "metadata": {},
   "outputs": [
    {
     "name": "stdout",
     "output_type": "stream",
     "text": [
      "1 1\n",
      "True\n"
     ]
    }
   ],
   "source": [
    "# 6057\n",
    "a,b = input().split()\n",
    "a = bool(int(a))\n",
    "b = bool(int(b))\n",
    "print(not((a and (not b)) or ((not a) and b)))"
   ]
  },
  {
   "cell_type": "code",
   "execution_count": 30,
   "id": "720c89fb",
   "metadata": {},
   "outputs": [
    {
     "name": "stdout",
     "output_type": "stream",
     "text": [
      "0 0\n",
      "True\n"
     ]
    }
   ],
   "source": [
    "# 6058 \n",
    "a,b = input().split()\n",
    "a = bool(int(a))\n",
    "b = bool(int(b))\n",
    "print(not(a or b))"
   ]
  },
  {
   "cell_type": "code",
   "execution_count": 32,
   "id": "7365f80b",
   "metadata": {},
   "outputs": [
    {
     "name": "stdout",
     "output_type": "stream",
     "text": [
      "2\n",
      "-3\n"
     ]
    }
   ],
   "source": [
    "# 6059 - 기초 비트단위논리연산\n",
    "a = int(input())\n",
    "print(~a)"
   ]
  },
  {
   "cell_type": "code",
   "execution_count": 33,
   "id": "d317d782",
   "metadata": {},
   "outputs": [
    {
     "name": "stdout",
     "output_type": "stream",
     "text": [
      "3 5\n",
      "1\n"
     ]
    }
   ],
   "source": [
    "# 6060\n",
    "a,b = input().split()\n",
    "a = int(a)\n",
    "b = int(b)\n",
    "print(a&b)"
   ]
  },
  {
   "cell_type": "code",
   "execution_count": null,
   "id": "b563d6ae",
   "metadata": {},
   "outputs": [],
   "source": []
  }
 ],
 "metadata": {
  "kernelspec": {
   "display_name": "Python 3 (ipykernel)",
   "language": "python",
   "name": "python3"
  },
  "language_info": {
   "codemirror_mode": {
    "name": "ipython",
    "version": 3
   },
   "file_extension": ".py",
   "mimetype": "text/x-python",
   "name": "python",
   "nbconvert_exporter": "python",
   "pygments_lexer": "ipython3",
   "version": "3.9.6"
  }
 },
 "nbformat": 4,
 "nbformat_minor": 5
}
